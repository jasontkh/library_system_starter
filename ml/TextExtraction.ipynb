{
 "cells": [
  {
   "cell_type": "code",
   "execution_count": 104,
   "id": "2583efee-c11d-4d25-a25b-c44a5fc00ef1",
   "metadata": {
    "tags": []
   },
   "outputs": [],
   "source": [
    "import pandas as pd"
   ]
  },
  {
   "cell_type": "code",
   "execution_count": 105,
   "id": "c015fb17-36f4-4887-a9eb-4998fb9ea60b",
   "metadata": {
    "tags": []
   },
   "outputs": [],
   "source": [
    "from PyPDF2 import PdfReader"
   ]
  },
  {
   "cell_type": "code",
   "execution_count": 109,
   "id": "692f023a-2550-46c8-babd-c3f71b4ac36c",
   "metadata": {
    "tags": []
   },
   "outputs": [],
   "source": [
    "import glob"
   ]
  },
  {
   "cell_type": "code",
   "execution_count": 131,
   "id": "6f804ab8-495e-4edc-9c3f-c2a2cc684597",
   "metadata": {
    "tags": []
   },
   "outputs": [],
   "source": [
    "pdf_dictionary = {}\n",
    "for path in glob.glob(\"data_source/*\"):\n",
    "    reader = PdfReader(path)\n",
    "    all_pages = []\n",
    "    for page in reader.pages:\n",
    "        all_pages.append(page.extract_text())\n",
    "    doc_string = \" \".join(all_pages)\n",
    "    pdf_dictionary[path] = doc_string"
   ]
  },
  {
   "cell_type": "code",
   "execution_count": 132,
   "id": "bb4f6bfc-c4df-43f8-aeaf-287e9189ce6c",
   "metadata": {
    "tags": []
   },
   "outputs": [],
   "source": [
    "df = pd.DataFrame(pdf_dictionary.items(), columns=[\"path\", \"text\"])"
   ]
  },
  {
   "cell_type": "code",
   "execution_count": 133,
   "id": "87b6464f-ec8d-4884-ae8d-986c2283dc67",
   "metadata": {
    "tags": []
   },
   "outputs": [],
   "source": [
    "from sklearn.feature_extraction.text import TfidfVectorizer"
   ]
  },
  {
   "cell_type": "code",
   "execution_count": 134,
   "id": "413c8338-41c6-4370-9cf5-9683f3aea5e7",
   "metadata": {
    "tags": []
   },
   "outputs": [],
   "source": [
    "vectorizer = TfidfVectorizer()\n",
    "X = vectorizer.fit_transform(df['text'])"
   ]
  },
  {
   "cell_type": "code",
   "execution_count": 135,
   "id": "ffadfb9b-587c-4177-b65f-fba8ffe02a6a",
   "metadata": {
    "tags": []
   },
   "outputs": [
    {
     "data": {
      "text/plain": [
       "<12x21832 sparse matrix of type '<class 'numpy.float64'>'\n",
       "\twith 34526 stored elements in Compressed Sparse Row format>"
      ]
     },
     "execution_count": 135,
     "metadata": {},
     "output_type": "execute_result"
    }
   ],
   "source": [
    "X"
   ]
  },
  {
   "cell_type": "code",
   "execution_count": 136,
   "id": "013599e6-c1d4-4b5b-b0cb-2cadf6906f0d",
   "metadata": {
    "tags": []
   },
   "outputs": [
    {
     "data": {
      "text/plain": [
       "array(['00', '000', '00001', ..., '𝜎𝜇and𝛼𝜇smearing', '𝜒0', '𝜙º'],\n",
       "      dtype=object)"
      ]
     },
     "execution_count": 136,
     "metadata": {},
     "output_type": "execute_result"
    }
   ],
   "source": [
    "vectorizer.get_feature_names_out()"
   ]
  },
  {
   "cell_type": "code",
   "execution_count": 137,
   "id": "86b41bc6-5c84-44f5-8159-775448af89b8",
   "metadata": {
    "tags": []
   },
   "outputs": [],
   "source": [
    "v1 = X.toarray()[0]"
   ]
  },
  {
   "cell_type": "code",
   "execution_count": 138,
   "id": "4403c53a-f194-41e3-8052-95de962284ca",
   "metadata": {
    "tags": []
   },
   "outputs": [],
   "source": [
    "v2 = X.toarray()[1]"
   ]
  },
  {
   "cell_type": "code",
   "execution_count": 139,
   "id": "e3120cab-b491-49a4-af24-81caba954675",
   "metadata": {
    "tags": []
   },
   "outputs": [
    {
     "data": {
      "text/plain": [
       "(array([0., 0., 0., ..., 0., 0., 0.]), array([0., 0., 0., ..., 0., 0., 0.]))"
      ]
     },
     "execution_count": 139,
     "metadata": {},
     "output_type": "execute_result"
    }
   ],
   "source": [
    "v1,v2"
   ]
  },
  {
   "cell_type": "code",
   "execution_count": 140,
   "id": "77cc1ec1-c5e9-4548-a98d-5843f0c6a700",
   "metadata": {
    "tags": []
   },
   "outputs": [],
   "source": [
    "import numpy as np"
   ]
  },
  {
   "cell_type": "code",
   "execution_count": 141,
   "id": "a3d75705-02e2-46a2-bbcd-cf0834cf8c2b",
   "metadata": {
    "tags": []
   },
   "outputs": [
    {
     "data": {
      "text/plain": [
       "0.5707229231562305"
      ]
     },
     "execution_count": 141,
     "metadata": {},
     "output_type": "execute_result"
    }
   ],
   "source": [
    "np.dot(v1, v2)"
   ]
  },
  {
   "cell_type": "code",
   "execution_count": 142,
   "id": "eab438c0-c3ed-4909-8450-626d05aee844",
   "metadata": {
    "tags": []
   },
   "outputs": [
    {
     "data": {
      "text/plain": [
       "0.9999999999999997"
      ]
     },
     "execution_count": 142,
     "metadata": {},
     "output_type": "execute_result"
    }
   ],
   "source": [
    "np.linalg.norm(v1)"
   ]
  },
  {
   "cell_type": "code",
   "execution_count": 143,
   "id": "1e4300b9-298d-492e-8d0f-86bc091cfd10",
   "metadata": {
    "tags": []
   },
   "outputs": [
    {
     "data": {
      "text/plain": [
       "0.9999999999999996"
      ]
     },
     "execution_count": 143,
     "metadata": {},
     "output_type": "execute_result"
    }
   ],
   "source": [
    "np.linalg.norm(v2)"
   ]
  },
  {
   "cell_type": "code",
   "execution_count": 144,
   "id": "2d8232cb-2940-4b79-92ee-5854ce5c1b2e",
   "metadata": {
    "tags": []
   },
   "outputs": [
    {
     "data": {
      "text/plain": [
       "0.570722923156231"
      ]
     },
     "execution_count": 144,
     "metadata": {},
     "output_type": "execute_result"
    }
   ],
   "source": [
    "np.dot(v1, v2)/np.linalg.norm(v1)/np.linalg.norm(v2)"
   ]
  },
  {
   "cell_type": "code",
   "execution_count": null,
   "id": "855a4489-ca75-4b25-bada-537231fd5df6",
   "metadata": {},
   "outputs": [],
   "source": []
  },
  {
   "cell_type": "code",
   "execution_count": null,
   "id": "c64df80a-36a6-4358-ac15-2c10293f06f5",
   "metadata": {},
   "outputs": [],
   "source": []
  },
  {
   "cell_type": "code",
   "execution_count": 145,
   "id": "a9439177-7cb9-42aa-9870-e8bb55ac1158",
   "metadata": {
    "tags": []
   },
   "outputs": [
    {
     "data": {
      "text/html": [
       "<div>\n",
       "<style scoped>\n",
       "    .dataframe tbody tr th:only-of-type {\n",
       "        vertical-align: middle;\n",
       "    }\n",
       "\n",
       "    .dataframe tbody tr th {\n",
       "        vertical-align: top;\n",
       "    }\n",
       "\n",
       "    .dataframe thead th {\n",
       "        text-align: right;\n",
       "    }\n",
       "</style>\n",
       "<table border=\"1\" class=\"dataframe\">\n",
       "  <thead>\n",
       "    <tr style=\"text-align: right;\">\n",
       "      <th></th>\n",
       "      <th>path</th>\n",
       "      <th>text</th>\n",
       "    </tr>\n",
       "  </thead>\n",
       "  <tbody>\n",
       "    <tr>\n",
       "      <th>0</th>\n",
       "      <td>data_source/waves_quantum.pdf</td>\n",
       "      <td>Chapter 10\\nIntroduction to quantum\\nmechanics...</td>\n",
       "    </tr>\n",
       "    <tr>\n",
       "      <th>1</th>\n",
       "      <td>data_source/2301.00029.pdf</td>\n",
       "      <td>arXiv:2301.00029v2  [math-ph]  26 Jan 2023Gene...</td>\n",
       "    </tr>\n",
       "    <tr>\n",
       "      <th>2</th>\n",
       "      <td>data_source/qmech.pdf</td>\n",
       "      <td>Quantum Mechanics\\nRichard Fitzpatrick\\nProfes...</td>\n",
       "    </tr>\n",
       "    <tr>\n",
       "      <th>3</th>\n",
       "      <td>data_source/2201.00019.pdf</td>\n",
       "      <td>To appear in JHEP\\nFACET: A new long-lived par...</td>\n",
       "    </tr>\n",
       "    <tr>\n",
       "      <th>4</th>\n",
       "      <td>data_source/2301.00292.pdf</td>\n",
       "      <td>Inference for Large Panel Data with Many Covar...</td>\n",
       "    </tr>\n",
       "    <tr>\n",
       "      <th>5</th>\n",
       "      <td>data_source/2301.00085.pdf</td>\n",
       "      <td>arXiv:2301.00085v1  [math.CO]  31 Dec 2022On t...</td>\n",
       "    </tr>\n",
       "    <tr>\n",
       "      <th>6</th>\n",
       "      <td>data_source/2301.00091.pdf</td>\n",
       "      <td>\\n \\n \\n \\n   \\nWealth Redistribution and Mu...</td>\n",
       "    </tr>\n",
       "    <tr>\n",
       "      <th>7</th>\n",
       "      <td>data_source/qm_papers.pdf</td>\n",
       "      <td>RESEARCH\\nON\\nTEACHING AND LEARNING\\nQUANTUM M...</td>\n",
       "    </tr>\n",
       "    <tr>\n",
       "      <th>8</th>\n",
       "      <td>data_source/2301.01362.pdf</td>\n",
       "      <td>Measuring tail risk at high-frequency: An L1-r...</td>\n",
       "    </tr>\n",
       "    <tr>\n",
       "      <th>9</th>\n",
       "      <td>data_source/2201.00738.pdf</td>\n",
       "      <td>Single Phonon Detection for Dark Matter via Qu...</td>\n",
       "    </tr>\n",
       "    <tr>\n",
       "      <th>10</th>\n",
       "      <td>data_source/2301.00037.pdf</td>\n",
       "      <td>arXiv:2301.00037v1  [math.HO]  30 Dec 2022A Co...</td>\n",
       "    </tr>\n",
       "    <tr>\n",
       "      <th>11</th>\n",
       "      <td>data_source/2201.02472.pdf</td>\n",
       "      <td>EUROPEAN ORGANISATION FOR NUCLEAR RESEARCH (CE...</td>\n",
       "    </tr>\n",
       "  </tbody>\n",
       "</table>\n",
       "</div>"
      ],
      "text/plain": [
       "                             path   \n",
       "0   data_source/waves_quantum.pdf  \\\n",
       "1      data_source/2301.00029.pdf   \n",
       "2           data_source/qmech.pdf   \n",
       "3      data_source/2201.00019.pdf   \n",
       "4      data_source/2301.00292.pdf   \n",
       "5      data_source/2301.00085.pdf   \n",
       "6      data_source/2301.00091.pdf   \n",
       "7       data_source/qm_papers.pdf   \n",
       "8      data_source/2301.01362.pdf   \n",
       "9      data_source/2201.00738.pdf   \n",
       "10     data_source/2301.00037.pdf   \n",
       "11     data_source/2201.02472.pdf   \n",
       "\n",
       "                                                 text  \n",
       "0   Chapter 10\\nIntroduction to quantum\\nmechanics...  \n",
       "1   arXiv:2301.00029v2  [math-ph]  26 Jan 2023Gene...  \n",
       "2   Quantum Mechanics\\nRichard Fitzpatrick\\nProfes...  \n",
       "3   To appear in JHEP\\nFACET: A new long-lived par...  \n",
       "4   Inference for Large Panel Data with Many Covar...  \n",
       "5   arXiv:2301.00085v1  [math.CO]  31 Dec 2022On t...  \n",
       "6     \\n \\n \\n \\n   \\nWealth Redistribution and Mu...  \n",
       "7   RESEARCH\\nON\\nTEACHING AND LEARNING\\nQUANTUM M...  \n",
       "8   Measuring tail risk at high-frequency: An L1-r...  \n",
       "9   Single Phonon Detection for Dark Matter via Qu...  \n",
       "10  arXiv:2301.00037v1  [math.HO]  30 Dec 2022A Co...  \n",
       "11  EUROPEAN ORGANISATION FOR NUCLEAR RESEARCH (CE...  "
      ]
     },
     "execution_count": 145,
     "metadata": {},
     "output_type": "execute_result"
    }
   ],
   "source": [
    "df"
   ]
  },
  {
   "cell_type": "code",
   "execution_count": 146,
   "id": "d3d88923-918a-4009-a8c5-4d843550231a",
   "metadata": {
    "tags": []
   },
   "outputs": [
    {
     "data": {
      "text/html": [
       "<div>\n",
       "<style scoped>\n",
       "    .dataframe tbody tr th:only-of-type {\n",
       "        vertical-align: middle;\n",
       "    }\n",
       "\n",
       "    .dataframe tbody tr th {\n",
       "        vertical-align: top;\n",
       "    }\n",
       "\n",
       "    .dataframe thead th {\n",
       "        text-align: right;\n",
       "    }\n",
       "</style>\n",
       "<table border=\"1\" class=\"dataframe\">\n",
       "  <thead>\n",
       "    <tr style=\"text-align: right;\">\n",
       "      <th></th>\n",
       "      <th>0</th>\n",
       "      <th>1</th>\n",
       "      <th>2</th>\n",
       "      <th>3</th>\n",
       "      <th>4</th>\n",
       "      <th>5</th>\n",
       "      <th>6</th>\n",
       "      <th>7</th>\n",
       "      <th>8</th>\n",
       "      <th>9</th>\n",
       "      <th>10</th>\n",
       "      <th>11</th>\n",
       "    </tr>\n",
       "  </thead>\n",
       "  <tbody>\n",
       "    <tr>\n",
       "      <th>0</th>\n",
       "      <td>1.000000</td>\n",
       "      <td>0.570723</td>\n",
       "      <td>0.816670</td>\n",
       "      <td>0.703458</td>\n",
       "      <td>0.794276</td>\n",
       "      <td>0.474494</td>\n",
       "      <td>0.630163</td>\n",
       "      <td>0.765888</td>\n",
       "      <td>0.560353</td>\n",
       "      <td>0.708646</td>\n",
       "      <td>0.130414</td>\n",
       "      <td>0.632214</td>\n",
       "    </tr>\n",
       "    <tr>\n",
       "      <th>1</th>\n",
       "      <td>0.570723</td>\n",
       "      <td>1.000000</td>\n",
       "      <td>0.548284</td>\n",
       "      <td>0.498114</td>\n",
       "      <td>0.548574</td>\n",
       "      <td>0.348831</td>\n",
       "      <td>0.458839</td>\n",
       "      <td>0.545071</td>\n",
       "      <td>0.390486</td>\n",
       "      <td>0.508908</td>\n",
       "      <td>0.092659</td>\n",
       "      <td>0.465749</td>\n",
       "    </tr>\n",
       "    <tr>\n",
       "      <th>2</th>\n",
       "      <td>0.816670</td>\n",
       "      <td>0.548284</td>\n",
       "      <td>1.000000</td>\n",
       "      <td>0.659500</td>\n",
       "      <td>0.730661</td>\n",
       "      <td>0.466742</td>\n",
       "      <td>0.595915</td>\n",
       "      <td>0.728439</td>\n",
       "      <td>0.516973</td>\n",
       "      <td>0.675530</td>\n",
       "      <td>0.123459</td>\n",
       "      <td>0.611672</td>\n",
       "    </tr>\n",
       "    <tr>\n",
       "      <th>3</th>\n",
       "      <td>0.703458</td>\n",
       "      <td>0.498114</td>\n",
       "      <td>0.659500</td>\n",
       "      <td>1.000000</td>\n",
       "      <td>0.673633</td>\n",
       "      <td>0.400403</td>\n",
       "      <td>0.585819</td>\n",
       "      <td>0.673409</td>\n",
       "      <td>0.492786</td>\n",
       "      <td>0.697620</td>\n",
       "      <td>0.114596</td>\n",
       "      <td>0.660313</td>\n",
       "    </tr>\n",
       "    <tr>\n",
       "      <th>4</th>\n",
       "      <td>0.794276</td>\n",
       "      <td>0.548574</td>\n",
       "      <td>0.730661</td>\n",
       "      <td>0.673633</td>\n",
       "      <td>1.000000</td>\n",
       "      <td>0.468289</td>\n",
       "      <td>0.627758</td>\n",
       "      <td>0.724940</td>\n",
       "      <td>0.582817</td>\n",
       "      <td>0.670213</td>\n",
       "      <td>0.127968</td>\n",
       "      <td>0.631379</td>\n",
       "    </tr>\n",
       "    <tr>\n",
       "      <th>5</th>\n",
       "      <td>0.474494</td>\n",
       "      <td>0.348831</td>\n",
       "      <td>0.466742</td>\n",
       "      <td>0.400403</td>\n",
       "      <td>0.468289</td>\n",
       "      <td>1.000000</td>\n",
       "      <td>0.368941</td>\n",
       "      <td>0.432368</td>\n",
       "      <td>0.344783</td>\n",
       "      <td>0.409764</td>\n",
       "      <td>0.072138</td>\n",
       "      <td>0.378541</td>\n",
       "    </tr>\n",
       "    <tr>\n",
       "      <th>6</th>\n",
       "      <td>0.630163</td>\n",
       "      <td>0.458839</td>\n",
       "      <td>0.595915</td>\n",
       "      <td>0.585819</td>\n",
       "      <td>0.627758</td>\n",
       "      <td>0.368941</td>\n",
       "      <td>1.000000</td>\n",
       "      <td>0.617820</td>\n",
       "      <td>0.476364</td>\n",
       "      <td>0.584170</td>\n",
       "      <td>0.106001</td>\n",
       "      <td>0.555573</td>\n",
       "    </tr>\n",
       "    <tr>\n",
       "      <th>7</th>\n",
       "      <td>0.765888</td>\n",
       "      <td>0.545071</td>\n",
       "      <td>0.728439</td>\n",
       "      <td>0.673409</td>\n",
       "      <td>0.724940</td>\n",
       "      <td>0.432368</td>\n",
       "      <td>0.617820</td>\n",
       "      <td>1.000000</td>\n",
       "      <td>0.521763</td>\n",
       "      <td>0.703929</td>\n",
       "      <td>0.120892</td>\n",
       "      <td>0.648814</td>\n",
       "    </tr>\n",
       "    <tr>\n",
       "      <th>8</th>\n",
       "      <td>0.560353</td>\n",
       "      <td>0.390486</td>\n",
       "      <td>0.516973</td>\n",
       "      <td>0.492786</td>\n",
       "      <td>0.582817</td>\n",
       "      <td>0.344783</td>\n",
       "      <td>0.476364</td>\n",
       "      <td>0.521763</td>\n",
       "      <td>1.000000</td>\n",
       "      <td>0.489337</td>\n",
       "      <td>0.089798</td>\n",
       "      <td>0.471372</td>\n",
       "    </tr>\n",
       "    <tr>\n",
       "      <th>9</th>\n",
       "      <td>0.708646</td>\n",
       "      <td>0.508908</td>\n",
       "      <td>0.675530</td>\n",
       "      <td>0.697620</td>\n",
       "      <td>0.670213</td>\n",
       "      <td>0.409764</td>\n",
       "      <td>0.584170</td>\n",
       "      <td>0.703929</td>\n",
       "      <td>0.489337</td>\n",
       "      <td>1.000000</td>\n",
       "      <td>0.111769</td>\n",
       "      <td>0.622699</td>\n",
       "    </tr>\n",
       "    <tr>\n",
       "      <th>10</th>\n",
       "      <td>0.130414</td>\n",
       "      <td>0.092659</td>\n",
       "      <td>0.123459</td>\n",
       "      <td>0.114596</td>\n",
       "      <td>0.127968</td>\n",
       "      <td>0.072138</td>\n",
       "      <td>0.106001</td>\n",
       "      <td>0.120892</td>\n",
       "      <td>0.089798</td>\n",
       "      <td>0.111769</td>\n",
       "      <td>1.000000</td>\n",
       "      <td>0.309149</td>\n",
       "    </tr>\n",
       "    <tr>\n",
       "      <th>11</th>\n",
       "      <td>0.632214</td>\n",
       "      <td>0.465749</td>\n",
       "      <td>0.611672</td>\n",
       "      <td>0.660313</td>\n",
       "      <td>0.631379</td>\n",
       "      <td>0.378541</td>\n",
       "      <td>0.555573</td>\n",
       "      <td>0.648814</td>\n",
       "      <td>0.471372</td>\n",
       "      <td>0.622699</td>\n",
       "      <td>0.309149</td>\n",
       "      <td>1.000000</td>\n",
       "    </tr>\n",
       "  </tbody>\n",
       "</table>\n",
       "</div>"
      ],
      "text/plain": [
       "          0         1         2         3         4         5         6    \n",
       "0   1.000000  0.570723  0.816670  0.703458  0.794276  0.474494  0.630163  \\\n",
       "1   0.570723  1.000000  0.548284  0.498114  0.548574  0.348831  0.458839   \n",
       "2   0.816670  0.548284  1.000000  0.659500  0.730661  0.466742  0.595915   \n",
       "3   0.703458  0.498114  0.659500  1.000000  0.673633  0.400403  0.585819   \n",
       "4   0.794276  0.548574  0.730661  0.673633  1.000000  0.468289  0.627758   \n",
       "5   0.474494  0.348831  0.466742  0.400403  0.468289  1.000000  0.368941   \n",
       "6   0.630163  0.458839  0.595915  0.585819  0.627758  0.368941  1.000000   \n",
       "7   0.765888  0.545071  0.728439  0.673409  0.724940  0.432368  0.617820   \n",
       "8   0.560353  0.390486  0.516973  0.492786  0.582817  0.344783  0.476364   \n",
       "9   0.708646  0.508908  0.675530  0.697620  0.670213  0.409764  0.584170   \n",
       "10  0.130414  0.092659  0.123459  0.114596  0.127968  0.072138  0.106001   \n",
       "11  0.632214  0.465749  0.611672  0.660313  0.631379  0.378541  0.555573   \n",
       "\n",
       "          7         8         9         10        11  \n",
       "0   0.765888  0.560353  0.708646  0.130414  0.632214  \n",
       "1   0.545071  0.390486  0.508908  0.092659  0.465749  \n",
       "2   0.728439  0.516973  0.675530  0.123459  0.611672  \n",
       "3   0.673409  0.492786  0.697620  0.114596  0.660313  \n",
       "4   0.724940  0.582817  0.670213  0.127968  0.631379  \n",
       "5   0.432368  0.344783  0.409764  0.072138  0.378541  \n",
       "6   0.617820  0.476364  0.584170  0.106001  0.555573  \n",
       "7   1.000000  0.521763  0.703929  0.120892  0.648814  \n",
       "8   0.521763  1.000000  0.489337  0.089798  0.471372  \n",
       "9   0.703929  0.489337  1.000000  0.111769  0.622699  \n",
       "10  0.120892  0.089798  0.111769  1.000000  0.309149  \n",
       "11  0.648814  0.471372  0.622699  0.309149  1.000000  "
      ]
     },
     "execution_count": 146,
     "metadata": {},
     "output_type": "execute_result"
    }
   ],
   "source": [
    "# Version 1\n",
    "\n",
    "X_dense = X.toarray()\n",
    "X_norms = np.linalg.norm(X_dense, axis=1)\n",
    "X_dense_normalized = (X_dense.T/X_norms).T\n",
    "pd.DataFrame(X_dense_normalized @ X_dense_normalized.T)"
   ]
  },
  {
   "cell_type": "code",
   "execution_count": 147,
   "id": "b2440280-cad3-4c79-82e9-47ef4f9179da",
   "metadata": {
    "tags": []
   },
   "outputs": [
    {
     "data": {
      "text/html": [
       "<div>\n",
       "<style scoped>\n",
       "    .dataframe tbody tr th:only-of-type {\n",
       "        vertical-align: middle;\n",
       "    }\n",
       "\n",
       "    .dataframe tbody tr th {\n",
       "        vertical-align: top;\n",
       "    }\n",
       "\n",
       "    .dataframe thead th {\n",
       "        text-align: right;\n",
       "    }\n",
       "</style>\n",
       "<table border=\"1\" class=\"dataframe\">\n",
       "  <thead>\n",
       "    <tr style=\"text-align: right;\">\n",
       "      <th></th>\n",
       "      <th>0</th>\n",
       "      <th>1</th>\n",
       "      <th>2</th>\n",
       "      <th>3</th>\n",
       "      <th>4</th>\n",
       "      <th>5</th>\n",
       "      <th>6</th>\n",
       "      <th>7</th>\n",
       "      <th>8</th>\n",
       "      <th>9</th>\n",
       "      <th>10</th>\n",
       "      <th>11</th>\n",
       "    </tr>\n",
       "    <tr>\n",
       "      <th>1</th>\n",
       "      <th></th>\n",
       "      <th></th>\n",
       "      <th></th>\n",
       "      <th></th>\n",
       "      <th></th>\n",
       "      <th></th>\n",
       "      <th></th>\n",
       "      <th></th>\n",
       "      <th></th>\n",
       "      <th></th>\n",
       "      <th></th>\n",
       "      <th></th>\n",
       "    </tr>\n",
       "  </thead>\n",
       "  <tbody>\n",
       "    <tr>\n",
       "      <th>0</th>\n",
       "      <td>1.000000</td>\n",
       "      <td>0.570723</td>\n",
       "      <td>0.816670</td>\n",
       "      <td>0.703458</td>\n",
       "      <td>0.794276</td>\n",
       "      <td>0.474494</td>\n",
       "      <td>0.630163</td>\n",
       "      <td>0.765888</td>\n",
       "      <td>0.560353</td>\n",
       "      <td>0.708646</td>\n",
       "      <td>0.130414</td>\n",
       "      <td>0.632214</td>\n",
       "    </tr>\n",
       "    <tr>\n",
       "      <th>1</th>\n",
       "      <td>0.570723</td>\n",
       "      <td>1.000000</td>\n",
       "      <td>0.548284</td>\n",
       "      <td>0.498114</td>\n",
       "      <td>0.548574</td>\n",
       "      <td>0.348831</td>\n",
       "      <td>0.458839</td>\n",
       "      <td>0.545071</td>\n",
       "      <td>0.390486</td>\n",
       "      <td>0.508908</td>\n",
       "      <td>0.092659</td>\n",
       "      <td>0.465749</td>\n",
       "    </tr>\n",
       "    <tr>\n",
       "      <th>2</th>\n",
       "      <td>0.816670</td>\n",
       "      <td>0.548284</td>\n",
       "      <td>1.000000</td>\n",
       "      <td>0.659500</td>\n",
       "      <td>0.730661</td>\n",
       "      <td>0.466742</td>\n",
       "      <td>0.595915</td>\n",
       "      <td>0.728439</td>\n",
       "      <td>0.516973</td>\n",
       "      <td>0.675530</td>\n",
       "      <td>0.123459</td>\n",
       "      <td>0.611672</td>\n",
       "    </tr>\n",
       "    <tr>\n",
       "      <th>3</th>\n",
       "      <td>0.703458</td>\n",
       "      <td>0.498114</td>\n",
       "      <td>0.659500</td>\n",
       "      <td>1.000000</td>\n",
       "      <td>0.673633</td>\n",
       "      <td>0.400403</td>\n",
       "      <td>0.585819</td>\n",
       "      <td>0.673409</td>\n",
       "      <td>0.492786</td>\n",
       "      <td>0.697620</td>\n",
       "      <td>0.114596</td>\n",
       "      <td>0.660313</td>\n",
       "    </tr>\n",
       "    <tr>\n",
       "      <th>4</th>\n",
       "      <td>0.794276</td>\n",
       "      <td>0.548574</td>\n",
       "      <td>0.730661</td>\n",
       "      <td>0.673633</td>\n",
       "      <td>1.000000</td>\n",
       "      <td>0.468289</td>\n",
       "      <td>0.627758</td>\n",
       "      <td>0.724940</td>\n",
       "      <td>0.582817</td>\n",
       "      <td>0.670213</td>\n",
       "      <td>0.127968</td>\n",
       "      <td>0.631379</td>\n",
       "    </tr>\n",
       "    <tr>\n",
       "      <th>5</th>\n",
       "      <td>0.474494</td>\n",
       "      <td>0.348831</td>\n",
       "      <td>0.466742</td>\n",
       "      <td>0.400403</td>\n",
       "      <td>0.468289</td>\n",
       "      <td>1.000000</td>\n",
       "      <td>0.368941</td>\n",
       "      <td>0.432368</td>\n",
       "      <td>0.344783</td>\n",
       "      <td>0.409764</td>\n",
       "      <td>0.072138</td>\n",
       "      <td>0.378541</td>\n",
       "    </tr>\n",
       "    <tr>\n",
       "      <th>6</th>\n",
       "      <td>0.630163</td>\n",
       "      <td>0.458839</td>\n",
       "      <td>0.595915</td>\n",
       "      <td>0.585819</td>\n",
       "      <td>0.627758</td>\n",
       "      <td>0.368941</td>\n",
       "      <td>1.000000</td>\n",
       "      <td>0.617820</td>\n",
       "      <td>0.476364</td>\n",
       "      <td>0.584170</td>\n",
       "      <td>0.106001</td>\n",
       "      <td>0.555573</td>\n",
       "    </tr>\n",
       "    <tr>\n",
       "      <th>7</th>\n",
       "      <td>0.765888</td>\n",
       "      <td>0.545071</td>\n",
       "      <td>0.728439</td>\n",
       "      <td>0.673409</td>\n",
       "      <td>0.724940</td>\n",
       "      <td>0.432368</td>\n",
       "      <td>0.617820</td>\n",
       "      <td>1.000000</td>\n",
       "      <td>0.521763</td>\n",
       "      <td>0.703929</td>\n",
       "      <td>0.120892</td>\n",
       "      <td>0.648814</td>\n",
       "    </tr>\n",
       "    <tr>\n",
       "      <th>8</th>\n",
       "      <td>0.560353</td>\n",
       "      <td>0.390486</td>\n",
       "      <td>0.516973</td>\n",
       "      <td>0.492786</td>\n",
       "      <td>0.582817</td>\n",
       "      <td>0.344783</td>\n",
       "      <td>0.476364</td>\n",
       "      <td>0.521763</td>\n",
       "      <td>1.000000</td>\n",
       "      <td>0.489337</td>\n",
       "      <td>0.089798</td>\n",
       "      <td>0.471372</td>\n",
       "    </tr>\n",
       "    <tr>\n",
       "      <th>9</th>\n",
       "      <td>0.708646</td>\n",
       "      <td>0.508908</td>\n",
       "      <td>0.675530</td>\n",
       "      <td>0.697620</td>\n",
       "      <td>0.670213</td>\n",
       "      <td>0.409764</td>\n",
       "      <td>0.584170</td>\n",
       "      <td>0.703929</td>\n",
       "      <td>0.489337</td>\n",
       "      <td>1.000000</td>\n",
       "      <td>0.111769</td>\n",
       "      <td>0.622699</td>\n",
       "    </tr>\n",
       "    <tr>\n",
       "      <th>10</th>\n",
       "      <td>0.130414</td>\n",
       "      <td>0.092659</td>\n",
       "      <td>0.123459</td>\n",
       "      <td>0.114596</td>\n",
       "      <td>0.127968</td>\n",
       "      <td>0.072138</td>\n",
       "      <td>0.106001</td>\n",
       "      <td>0.120892</td>\n",
       "      <td>0.089798</td>\n",
       "      <td>0.111769</td>\n",
       "      <td>1.000000</td>\n",
       "      <td>0.309149</td>\n",
       "    </tr>\n",
       "    <tr>\n",
       "      <th>11</th>\n",
       "      <td>0.632214</td>\n",
       "      <td>0.465749</td>\n",
       "      <td>0.611672</td>\n",
       "      <td>0.660313</td>\n",
       "      <td>0.631379</td>\n",
       "      <td>0.378541</td>\n",
       "      <td>0.555573</td>\n",
       "      <td>0.648814</td>\n",
       "      <td>0.471372</td>\n",
       "      <td>0.622699</td>\n",
       "      <td>0.309149</td>\n",
       "      <td>1.000000</td>\n",
       "    </tr>\n",
       "  </tbody>\n",
       "</table>\n",
       "</div>"
      ],
      "text/plain": [
       "0         0         1         2         3         4         5         6    \n",
       "1                                                                          \n",
       "0   1.000000  0.570723  0.816670  0.703458  0.794276  0.474494  0.630163  \\\n",
       "1   0.570723  1.000000  0.548284  0.498114  0.548574  0.348831  0.458839   \n",
       "2   0.816670  0.548284  1.000000  0.659500  0.730661  0.466742  0.595915   \n",
       "3   0.703458  0.498114  0.659500  1.000000  0.673633  0.400403  0.585819   \n",
       "4   0.794276  0.548574  0.730661  0.673633  1.000000  0.468289  0.627758   \n",
       "5   0.474494  0.348831  0.466742  0.400403  0.468289  1.000000  0.368941   \n",
       "6   0.630163  0.458839  0.595915  0.585819  0.627758  0.368941  1.000000   \n",
       "7   0.765888  0.545071  0.728439  0.673409  0.724940  0.432368  0.617820   \n",
       "8   0.560353  0.390486  0.516973  0.492786  0.582817  0.344783  0.476364   \n",
       "9   0.708646  0.508908  0.675530  0.697620  0.670213  0.409764  0.584170   \n",
       "10  0.130414  0.092659  0.123459  0.114596  0.127968  0.072138  0.106001   \n",
       "11  0.632214  0.465749  0.611672  0.660313  0.631379  0.378541  0.555573   \n",
       "\n",
       "0         7         8         9         10        11  \n",
       "1                                                     \n",
       "0   0.765888  0.560353  0.708646  0.130414  0.632214  \n",
       "1   0.545071  0.390486  0.508908  0.092659  0.465749  \n",
       "2   0.728439  0.516973  0.675530  0.123459  0.611672  \n",
       "3   0.673409  0.492786  0.697620  0.114596  0.660313  \n",
       "4   0.724940  0.582817  0.670213  0.127968  0.631379  \n",
       "5   0.432368  0.344783  0.409764  0.072138  0.378541  \n",
       "6   0.617820  0.476364  0.584170  0.106001  0.555573  \n",
       "7   1.000000  0.521763  0.703929  0.120892  0.648814  \n",
       "8   0.521763  1.000000  0.489337  0.089798  0.471372  \n",
       "9   0.703929  0.489337  1.000000  0.111769  0.622699  \n",
       "10  0.120892  0.089798  0.111769  1.000000  0.309149  \n",
       "11  0.648814  0.471372  0.622699  0.309149  1.000000  "
      ]
     },
     "execution_count": 147,
     "metadata": {},
     "output_type": "execute_result"
    }
   ],
   "source": [
    "# Version 2\n",
    "\n",
    "result = []\n",
    "for i, row_a in enumerate(X_dense):\n",
    "    for j, row_b in enumerate(X_dense):\n",
    "        similarity = np.dot(row_a, row_b) / np.linalg.norm(row_a) /  np.linalg.norm(row_b)\n",
    "        result.append([i, j, similarity])\n",
    "pd.DataFrame(result).pivot(columns=0, index=1, values=2)"
   ]
  },
  {
   "cell_type": "code",
   "execution_count": 162,
   "id": "1fb547a1-8a1d-4c6a-b47b-3c3a7e7bae8f",
   "metadata": {
    "tags": []
   },
   "outputs": [],
   "source": [
    "# Version 3\n",
    "\n",
    "from sklearn.metrics.pairwise import cosine_similarity\n",
    "similarities = cosine_similarity(X)"
   ]
  },
  {
   "cell_type": "code",
   "execution_count": 149,
   "id": "b4245cbf-7fd4-4149-9d3b-d907c49d5490",
   "metadata": {
    "tags": []
   },
   "outputs": [
    {
     "data": {
      "text/plain": [
       "{0: [(3, 0.7837), (5, 0.4293), (6, 0.1293)],\n",
       " 1: [(2, 0.7837), (4, 0.4293), (6, 0.1293)]}"
      ]
     },
     "execution_count": 149,
     "metadata": {},
     "output_type": "execute_result"
    }
   ],
   "source": [
    "{\n",
    "    0: [\n",
    "            (3, 0.7837), \n",
    "            (5, 0.4293), \n",
    "            (6, 0.1293), \n",
    "        ],\n",
    "    1: [\n",
    "            (2, 0.7837), \n",
    "            (4, 0.4293), \n",
    "            (6, 0.1293), \n",
    "        ],\n",
    "}"
   ]
  },
  {
   "cell_type": "code",
   "execution_count": null,
   "id": "f16b3072-03d8-4854-a83c-4f0e8cb68eb1",
   "metadata": {},
   "outputs": [],
   "source": []
  },
  {
   "cell_type": "code",
   "execution_count": null,
   "id": "78db9b19-d0c4-4edd-86d1-6e479511d9af",
   "metadata": {},
   "outputs": [],
   "source": []
  },
  {
   "cell_type": "code",
   "execution_count": null,
   "id": "8aadcdda-6822-4479-b254-f7d88195e18b",
   "metadata": {},
   "outputs": [],
   "source": []
  },
  {
   "cell_type": "code",
   "execution_count": null,
   "id": "55a25aef-30fe-43bc-b522-86650d350521",
   "metadata": {},
   "outputs": [],
   "source": []
  },
  {
   "cell_type": "code",
   "execution_count": 206,
   "id": "ce5826b4-396e-478a-9f04-1deea8952746",
   "metadata": {
    "tags": []
   },
   "outputs": [],
   "source": [
    "ind = similarities.argsort(axis=1)[:, -4:-1]"
   ]
  },
  {
   "cell_type": "code",
   "execution_count": 207,
   "id": "edb65863-15bd-4b21-88f0-4d66fd30faf0",
   "metadata": {
    "tags": []
   },
   "outputs": [
    {
     "data": {
      "text/plain": [
       "array([[ 7,  4,  2],\n",
       "       [ 2,  4,  0],\n",
       "       [ 7,  4,  0],\n",
       "       [ 4,  9,  0],\n",
       "       [ 7,  2,  0],\n",
       "       [ 2,  4,  0],\n",
       "       [ 7,  4,  0],\n",
       "       [ 4,  2,  0],\n",
       "       [ 7,  0,  4],\n",
       "       [ 3,  7,  0],\n",
       "       [ 4,  0, 11],\n",
       "       [ 0,  7,  3]])"
      ]
     },
     "execution_count": 207,
     "metadata": {},
     "output_type": "execute_result"
    }
   ],
   "source": [
    "ind"
   ]
  },
  {
   "cell_type": "code",
   "execution_count": 209,
   "id": "7000a14f-c6ae-4132-a21c-c5ec428e8225",
   "metadata": {
    "tags": []
   },
   "outputs": [
    {
     "data": {
      "text/plain": [
       "array([[0.76588805, 0.79427585, 0.8166697 ],\n",
       "       [0.54828418, 0.54857389, 0.57072292],\n",
       "       [0.72843884, 0.73066103, 0.8166697 ],\n",
       "       [0.67363333, 0.69762035, 0.70345838],\n",
       "       [0.7249397 , 0.73066103, 0.79427585],\n",
       "       [0.46674159, 0.46828925, 0.47449387],\n",
       "       [0.61781998, 0.6277577 , 0.63016345],\n",
       "       [0.7249397 , 0.72843884, 0.76588805],\n",
       "       [0.52176269, 0.56035325, 0.58281677],\n",
       "       [0.69762035, 0.7039291 , 0.70864648],\n",
       "       [0.12796832, 0.13041356, 0.30914935],\n",
       "       [0.63221411, 0.64881354, 0.66031337]])"
      ]
     },
     "execution_count": 209,
     "metadata": {},
     "output_type": "execute_result"
    }
   ],
   "source": [
    "values = np.take_along_axis(similarities, ind, axis=1)\n",
    "values"
   ]
  },
  {
   "cell_type": "code",
   "execution_count": 213,
   "id": "1cc3c901-1603-4d27-aba6-5b9730c9e80e",
   "metadata": {
    "tags": []
   },
   "outputs": [
    {
     "data": {
      "text/plain": [
       "array([[[ 7.        ,  0.76588805],\n",
       "        [ 4.        ,  0.79427585],\n",
       "        [ 2.        ,  0.8166697 ]],\n",
       "\n",
       "       [[ 2.        ,  0.54828418],\n",
       "        [ 4.        ,  0.54857389],\n",
       "        [ 0.        ,  0.57072292]],\n",
       "\n",
       "       [[ 7.        ,  0.72843884],\n",
       "        [ 4.        ,  0.73066103],\n",
       "        [ 0.        ,  0.8166697 ]],\n",
       "\n",
       "       [[ 4.        ,  0.67363333],\n",
       "        [ 9.        ,  0.69762035],\n",
       "        [ 0.        ,  0.70345838]],\n",
       "\n",
       "       [[ 7.        ,  0.7249397 ],\n",
       "        [ 2.        ,  0.73066103],\n",
       "        [ 0.        ,  0.79427585]],\n",
       "\n",
       "       [[ 2.        ,  0.46674159],\n",
       "        [ 4.        ,  0.46828925],\n",
       "        [ 0.        ,  0.47449387]],\n",
       "\n",
       "       [[ 7.        ,  0.61781998],\n",
       "        [ 4.        ,  0.6277577 ],\n",
       "        [ 0.        ,  0.63016345]],\n",
       "\n",
       "       [[ 4.        ,  0.7249397 ],\n",
       "        [ 2.        ,  0.72843884],\n",
       "        [ 0.        ,  0.76588805]],\n",
       "\n",
       "       [[ 7.        ,  0.52176269],\n",
       "        [ 0.        ,  0.56035325],\n",
       "        [ 4.        ,  0.58281677]],\n",
       "\n",
       "       [[ 3.        ,  0.69762035],\n",
       "        [ 7.        ,  0.7039291 ],\n",
       "        [ 0.        ,  0.70864648]],\n",
       "\n",
       "       [[ 4.        ,  0.12796832],\n",
       "        [ 0.        ,  0.13041356],\n",
       "        [11.        ,  0.30914935]],\n",
       "\n",
       "       [[ 0.        ,  0.63221411],\n",
       "        [ 7.        ,  0.64881354],\n",
       "        [ 3.        ,  0.66031337]]])"
      ]
     },
     "execution_count": 213,
     "metadata": {},
     "output_type": "execute_result"
    }
   ],
   "source": [
    "np.dstack([ind, values])"
   ]
  },
  {
   "cell_type": "code",
   "execution_count": null,
   "id": "d1bd72d0-7822-4677-a958-7d061bc49fc3",
   "metadata": {},
   "outputs": [],
   "source": [
    "np.vstack()"
   ]
  },
  {
   "cell_type": "code",
   "execution_count": null,
   "id": "1b3ddadf-d8d1-490f-aae4-acb5bfd9492e",
   "metadata": {},
   "outputs": [],
   "source": [
    "np.hstack()"
   ]
  },
  {
   "cell_type": "code",
   "execution_count": null,
   "id": "495bf06b-4f1f-49dd-9bfb-be2c882af2bf",
   "metadata": {},
   "outputs": [],
   "source": [
    "np.dstack()"
   ]
  },
  {
   "cell_type": "code",
   "execution_count": null,
   "id": "3ebf23ee-6f73-4e88-8c2b-49c0207c7500",
   "metadata": {},
   "outputs": [],
   "source": [
    "for a,b in zip([1,2,3], [3,4,5]):\n",
    "    "
   ]
  },
  {
   "cell_type": "code",
   "execution_count": null,
   "id": "ef922c38-a6fe-4082-b808-009f54911248",
   "metadata": {},
   "outputs": [],
   "source": []
  },
  {
   "cell_type": "code",
   "execution_count": 203,
   "id": "be6d98aa-acdf-416f-896f-7fa5fe1ee052",
   "metadata": {
    "tags": []
   },
   "outputs": [
    {
     "data": {
      "text/html": [
       "<div>\n",
       "<style scoped>\n",
       "    .dataframe tbody tr th:only-of-type {\n",
       "        vertical-align: middle;\n",
       "    }\n",
       "\n",
       "    .dataframe tbody tr th {\n",
       "        vertical-align: top;\n",
       "    }\n",
       "\n",
       "    .dataframe thead th {\n",
       "        text-align: right;\n",
       "    }\n",
       "</style>\n",
       "<table border=\"1\" class=\"dataframe\">\n",
       "  <thead>\n",
       "    <tr style=\"text-align: right;\">\n",
       "      <th></th>\n",
       "      <th>0</th>\n",
       "      <th>1</th>\n",
       "      <th>2</th>\n",
       "      <th>3</th>\n",
       "      <th>4</th>\n",
       "      <th>5</th>\n",
       "      <th>6</th>\n",
       "      <th>7</th>\n",
       "      <th>8</th>\n",
       "      <th>9</th>\n",
       "      <th>10</th>\n",
       "      <th>11</th>\n",
       "    </tr>\n",
       "  </thead>\n",
       "  <tbody>\n",
       "    <tr>\n",
       "      <th>0</th>\n",
       "      <td>1.000000</td>\n",
       "      <td>0.570723</td>\n",
       "      <td>0.816670</td>\n",
       "      <td>0.703458</td>\n",
       "      <td>0.794276</td>\n",
       "      <td>0.474494</td>\n",
       "      <td>0.630163</td>\n",
       "      <td>0.765888</td>\n",
       "      <td>0.560353</td>\n",
       "      <td>0.708646</td>\n",
       "      <td>0.130414</td>\n",
       "      <td>0.632214</td>\n",
       "    </tr>\n",
       "    <tr>\n",
       "      <th>1</th>\n",
       "      <td>0.570723</td>\n",
       "      <td>1.000000</td>\n",
       "      <td>0.548284</td>\n",
       "      <td>0.498114</td>\n",
       "      <td>0.548574</td>\n",
       "      <td>0.348831</td>\n",
       "      <td>0.458839</td>\n",
       "      <td>0.545071</td>\n",
       "      <td>0.390486</td>\n",
       "      <td>0.508908</td>\n",
       "      <td>0.092659</td>\n",
       "      <td>0.465749</td>\n",
       "    </tr>\n",
       "    <tr>\n",
       "      <th>2</th>\n",
       "      <td>0.816670</td>\n",
       "      <td>0.548284</td>\n",
       "      <td>1.000000</td>\n",
       "      <td>0.659500</td>\n",
       "      <td>0.730661</td>\n",
       "      <td>0.466742</td>\n",
       "      <td>0.595915</td>\n",
       "      <td>0.728439</td>\n",
       "      <td>0.516973</td>\n",
       "      <td>0.675530</td>\n",
       "      <td>0.123459</td>\n",
       "      <td>0.611672</td>\n",
       "    </tr>\n",
       "    <tr>\n",
       "      <th>3</th>\n",
       "      <td>0.703458</td>\n",
       "      <td>0.498114</td>\n",
       "      <td>0.659500</td>\n",
       "      <td>1.000000</td>\n",
       "      <td>0.673633</td>\n",
       "      <td>0.400403</td>\n",
       "      <td>0.585819</td>\n",
       "      <td>0.673409</td>\n",
       "      <td>0.492786</td>\n",
       "      <td>0.697620</td>\n",
       "      <td>0.114596</td>\n",
       "      <td>0.660313</td>\n",
       "    </tr>\n",
       "    <tr>\n",
       "      <th>4</th>\n",
       "      <td>0.794276</td>\n",
       "      <td>0.548574</td>\n",
       "      <td>0.730661</td>\n",
       "      <td>0.673633</td>\n",
       "      <td>1.000000</td>\n",
       "      <td>0.468289</td>\n",
       "      <td>0.627758</td>\n",
       "      <td>0.724940</td>\n",
       "      <td>0.582817</td>\n",
       "      <td>0.670213</td>\n",
       "      <td>0.127968</td>\n",
       "      <td>0.631379</td>\n",
       "    </tr>\n",
       "    <tr>\n",
       "      <th>5</th>\n",
       "      <td>0.474494</td>\n",
       "      <td>0.348831</td>\n",
       "      <td>0.466742</td>\n",
       "      <td>0.400403</td>\n",
       "      <td>0.468289</td>\n",
       "      <td>1.000000</td>\n",
       "      <td>0.368941</td>\n",
       "      <td>0.432368</td>\n",
       "      <td>0.344783</td>\n",
       "      <td>0.409764</td>\n",
       "      <td>0.072138</td>\n",
       "      <td>0.378541</td>\n",
       "    </tr>\n",
       "    <tr>\n",
       "      <th>6</th>\n",
       "      <td>0.630163</td>\n",
       "      <td>0.458839</td>\n",
       "      <td>0.595915</td>\n",
       "      <td>0.585819</td>\n",
       "      <td>0.627758</td>\n",
       "      <td>0.368941</td>\n",
       "      <td>1.000000</td>\n",
       "      <td>0.617820</td>\n",
       "      <td>0.476364</td>\n",
       "      <td>0.584170</td>\n",
       "      <td>0.106001</td>\n",
       "      <td>0.555573</td>\n",
       "    </tr>\n",
       "    <tr>\n",
       "      <th>7</th>\n",
       "      <td>0.765888</td>\n",
       "      <td>0.545071</td>\n",
       "      <td>0.728439</td>\n",
       "      <td>0.673409</td>\n",
       "      <td>0.724940</td>\n",
       "      <td>0.432368</td>\n",
       "      <td>0.617820</td>\n",
       "      <td>1.000000</td>\n",
       "      <td>0.521763</td>\n",
       "      <td>0.703929</td>\n",
       "      <td>0.120892</td>\n",
       "      <td>0.648814</td>\n",
       "    </tr>\n",
       "    <tr>\n",
       "      <th>8</th>\n",
       "      <td>0.560353</td>\n",
       "      <td>0.390486</td>\n",
       "      <td>0.516973</td>\n",
       "      <td>0.492786</td>\n",
       "      <td>0.582817</td>\n",
       "      <td>0.344783</td>\n",
       "      <td>0.476364</td>\n",
       "      <td>0.521763</td>\n",
       "      <td>1.000000</td>\n",
       "      <td>0.489337</td>\n",
       "      <td>0.089798</td>\n",
       "      <td>0.471372</td>\n",
       "    </tr>\n",
       "    <tr>\n",
       "      <th>9</th>\n",
       "      <td>0.708646</td>\n",
       "      <td>0.508908</td>\n",
       "      <td>0.675530</td>\n",
       "      <td>0.697620</td>\n",
       "      <td>0.670213</td>\n",
       "      <td>0.409764</td>\n",
       "      <td>0.584170</td>\n",
       "      <td>0.703929</td>\n",
       "      <td>0.489337</td>\n",
       "      <td>1.000000</td>\n",
       "      <td>0.111769</td>\n",
       "      <td>0.622699</td>\n",
       "    </tr>\n",
       "    <tr>\n",
       "      <th>10</th>\n",
       "      <td>0.130414</td>\n",
       "      <td>0.092659</td>\n",
       "      <td>0.123459</td>\n",
       "      <td>0.114596</td>\n",
       "      <td>0.127968</td>\n",
       "      <td>0.072138</td>\n",
       "      <td>0.106001</td>\n",
       "      <td>0.120892</td>\n",
       "      <td>0.089798</td>\n",
       "      <td>0.111769</td>\n",
       "      <td>1.000000</td>\n",
       "      <td>0.309149</td>\n",
       "    </tr>\n",
       "    <tr>\n",
       "      <th>11</th>\n",
       "      <td>0.632214</td>\n",
       "      <td>0.465749</td>\n",
       "      <td>0.611672</td>\n",
       "      <td>0.660313</td>\n",
       "      <td>0.631379</td>\n",
       "      <td>0.378541</td>\n",
       "      <td>0.555573</td>\n",
       "      <td>0.648814</td>\n",
       "      <td>0.471372</td>\n",
       "      <td>0.622699</td>\n",
       "      <td>0.309149</td>\n",
       "      <td>1.000000</td>\n",
       "    </tr>\n",
       "  </tbody>\n",
       "</table>\n",
       "</div>"
      ],
      "text/plain": [
       "          0         1         2         3         4         5         6    \n",
       "0   1.000000  0.570723  0.816670  0.703458  0.794276  0.474494  0.630163  \\\n",
       "1   0.570723  1.000000  0.548284  0.498114  0.548574  0.348831  0.458839   \n",
       "2   0.816670  0.548284  1.000000  0.659500  0.730661  0.466742  0.595915   \n",
       "3   0.703458  0.498114  0.659500  1.000000  0.673633  0.400403  0.585819   \n",
       "4   0.794276  0.548574  0.730661  0.673633  1.000000  0.468289  0.627758   \n",
       "5   0.474494  0.348831  0.466742  0.400403  0.468289  1.000000  0.368941   \n",
       "6   0.630163  0.458839  0.595915  0.585819  0.627758  0.368941  1.000000   \n",
       "7   0.765888  0.545071  0.728439  0.673409  0.724940  0.432368  0.617820   \n",
       "8   0.560353  0.390486  0.516973  0.492786  0.582817  0.344783  0.476364   \n",
       "9   0.708646  0.508908  0.675530  0.697620  0.670213  0.409764  0.584170   \n",
       "10  0.130414  0.092659  0.123459  0.114596  0.127968  0.072138  0.106001   \n",
       "11  0.632214  0.465749  0.611672  0.660313  0.631379  0.378541  0.555573   \n",
       "\n",
       "          7         8         9         10        11  \n",
       "0   0.765888  0.560353  0.708646  0.130414  0.632214  \n",
       "1   0.545071  0.390486  0.508908  0.092659  0.465749  \n",
       "2   0.728439  0.516973  0.675530  0.123459  0.611672  \n",
       "3   0.673409  0.492786  0.697620  0.114596  0.660313  \n",
       "4   0.724940  0.582817  0.670213  0.127968  0.631379  \n",
       "5   0.432368  0.344783  0.409764  0.072138  0.378541  \n",
       "6   0.617820  0.476364  0.584170  0.106001  0.555573  \n",
       "7   1.000000  0.521763  0.703929  0.120892  0.648814  \n",
       "8   0.521763  1.000000  0.489337  0.089798  0.471372  \n",
       "9   0.703929  0.489337  1.000000  0.111769  0.622699  \n",
       "10  0.120892  0.089798  0.111769  1.000000  0.309149  \n",
       "11  0.648814  0.471372  0.622699  0.309149  1.000000  "
      ]
     },
     "execution_count": 203,
     "metadata": {},
     "output_type": "execute_result"
    }
   ],
   "source": [
    "pd.DataFrame(similarities)"
   ]
  },
  {
   "cell_type": "code",
   "execution_count": 170,
   "id": "080a889c-23d5-4c34-bac8-ab8ac8262052",
   "metadata": {
    "tags": []
   },
   "outputs": [],
   "source": [
    "values = np.take_along_axis(similarities, ind, axis=1)"
   ]
  },
  {
   "cell_type": "code",
   "execution_count": 172,
   "id": "04348b25-618a-4b08-ac5a-22c96456222d",
   "metadata": {
    "tags": []
   },
   "outputs": [
    {
     "data": {
      "text/plain": [
       "array([[[ 7.        ,  0.76588805],\n",
       "        [ 4.        ,  0.79427585],\n",
       "        [ 2.        ,  0.8166697 ]],\n",
       "\n",
       "       [[ 2.        ,  0.54828418],\n",
       "        [ 4.        ,  0.54857389],\n",
       "        [ 0.        ,  0.57072292]],\n",
       "\n",
       "       [[ 7.        ,  0.72843884],\n",
       "        [ 4.        ,  0.73066103],\n",
       "        [ 0.        ,  0.8166697 ]],\n",
       "\n",
       "       [[ 4.        ,  0.67363333],\n",
       "        [ 9.        ,  0.69762035],\n",
       "        [ 0.        ,  0.70345838]],\n",
       "\n",
       "       [[ 7.        ,  0.7249397 ],\n",
       "        [ 2.        ,  0.73066103],\n",
       "        [ 0.        ,  0.79427585]],\n",
       "\n",
       "       [[ 2.        ,  0.46674159],\n",
       "        [ 4.        ,  0.46828925],\n",
       "        [ 0.        ,  0.47449387]],\n",
       "\n",
       "       [[ 7.        ,  0.61781998],\n",
       "        [ 4.        ,  0.6277577 ],\n",
       "        [ 0.        ,  0.63016345]],\n",
       "\n",
       "       [[ 4.        ,  0.7249397 ],\n",
       "        [ 2.        ,  0.72843884],\n",
       "        [ 0.        ,  0.76588805]],\n",
       "\n",
       "       [[ 7.        ,  0.52176269],\n",
       "        [ 0.        ,  0.56035325],\n",
       "        [ 4.        ,  0.58281677]],\n",
       "\n",
       "       [[ 3.        ,  0.69762035],\n",
       "        [ 7.        ,  0.7039291 ],\n",
       "        [ 0.        ,  0.70864648]],\n",
       "\n",
       "       [[ 4.        ,  0.12796832],\n",
       "        [ 0.        ,  0.13041356],\n",
       "        [11.        ,  0.30914935]],\n",
       "\n",
       "       [[ 0.        ,  0.63221411],\n",
       "        [ 7.        ,  0.64881354],\n",
       "        [ 3.        ,  0.66031337]]])"
      ]
     },
     "execution_count": 172,
     "metadata": {},
     "output_type": "execute_result"
    }
   ],
   "source": [
    "np.dstack([ind, values])"
   ]
  },
  {
   "cell_type": "code",
   "execution_count": 152,
   "id": "d31a1fdc-a7ad-454b-8c20-f3f5aed47f83",
   "metadata": {
    "tags": []
   },
   "outputs": [
    {
     "data": {
      "text/html": [
       "<div>\n",
       "<style scoped>\n",
       "    .dataframe tbody tr th:only-of-type {\n",
       "        vertical-align: middle;\n",
       "    }\n",
       "\n",
       "    .dataframe tbody tr th {\n",
       "        vertical-align: top;\n",
       "    }\n",
       "\n",
       "    .dataframe thead th {\n",
       "        text-align: right;\n",
       "    }\n",
       "</style>\n",
       "<table border=\"1\" class=\"dataframe\">\n",
       "  <thead>\n",
       "    <tr style=\"text-align: right;\">\n",
       "      <th></th>\n",
       "      <th>path</th>\n",
       "      <th>text</th>\n",
       "    </tr>\n",
       "  </thead>\n",
       "  <tbody>\n",
       "    <tr>\n",
       "      <th>0</th>\n",
       "      <td>data_source/waves_quantum.pdf</td>\n",
       "      <td>Chapter 10\\nIntroduction to quantum\\nmechanics...</td>\n",
       "    </tr>\n",
       "    <tr>\n",
       "      <th>1</th>\n",
       "      <td>data_source/2301.00029.pdf</td>\n",
       "      <td>arXiv:2301.00029v2  [math-ph]  26 Jan 2023Gene...</td>\n",
       "    </tr>\n",
       "    <tr>\n",
       "      <th>2</th>\n",
       "      <td>data_source/qmech.pdf</td>\n",
       "      <td>Quantum Mechanics\\nRichard Fitzpatrick\\nProfes...</td>\n",
       "    </tr>\n",
       "    <tr>\n",
       "      <th>3</th>\n",
       "      <td>data_source/2201.00019.pdf</td>\n",
       "      <td>To appear in JHEP\\nFACET: A new long-lived par...</td>\n",
       "    </tr>\n",
       "    <tr>\n",
       "      <th>4</th>\n",
       "      <td>data_source/2301.00292.pdf</td>\n",
       "      <td>Inference for Large Panel Data with Many Covar...</td>\n",
       "    </tr>\n",
       "    <tr>\n",
       "      <th>5</th>\n",
       "      <td>data_source/2301.00085.pdf</td>\n",
       "      <td>arXiv:2301.00085v1  [math.CO]  31 Dec 2022On t...</td>\n",
       "    </tr>\n",
       "    <tr>\n",
       "      <th>6</th>\n",
       "      <td>data_source/2301.00091.pdf</td>\n",
       "      <td>\\n \\n \\n \\n   \\nWealth Redistribution and Mu...</td>\n",
       "    </tr>\n",
       "    <tr>\n",
       "      <th>7</th>\n",
       "      <td>data_source/qm_papers.pdf</td>\n",
       "      <td>RESEARCH\\nON\\nTEACHING AND LEARNING\\nQUANTUM M...</td>\n",
       "    </tr>\n",
       "    <tr>\n",
       "      <th>8</th>\n",
       "      <td>data_source/2301.01362.pdf</td>\n",
       "      <td>Measuring tail risk at high-frequency: An L1-r...</td>\n",
       "    </tr>\n",
       "    <tr>\n",
       "      <th>9</th>\n",
       "      <td>data_source/2201.00738.pdf</td>\n",
       "      <td>Single Phonon Detection for Dark Matter via Qu...</td>\n",
       "    </tr>\n",
       "    <tr>\n",
       "      <th>10</th>\n",
       "      <td>data_source/2301.00037.pdf</td>\n",
       "      <td>arXiv:2301.00037v1  [math.HO]  30 Dec 2022A Co...</td>\n",
       "    </tr>\n",
       "    <tr>\n",
       "      <th>11</th>\n",
       "      <td>data_source/2201.02472.pdf</td>\n",
       "      <td>EUROPEAN ORGANISATION FOR NUCLEAR RESEARCH (CE...</td>\n",
       "    </tr>\n",
       "  </tbody>\n",
       "</table>\n",
       "</div>"
      ],
      "text/plain": [
       "                             path   \n",
       "0   data_source/waves_quantum.pdf  \\\n",
       "1      data_source/2301.00029.pdf   \n",
       "2           data_source/qmech.pdf   \n",
       "3      data_source/2201.00019.pdf   \n",
       "4      data_source/2301.00292.pdf   \n",
       "5      data_source/2301.00085.pdf   \n",
       "6      data_source/2301.00091.pdf   \n",
       "7       data_source/qm_papers.pdf   \n",
       "8      data_source/2301.01362.pdf   \n",
       "9      data_source/2201.00738.pdf   \n",
       "10     data_source/2301.00037.pdf   \n",
       "11     data_source/2201.02472.pdf   \n",
       "\n",
       "                                                 text  \n",
       "0   Chapter 10\\nIntroduction to quantum\\nmechanics...  \n",
       "1   arXiv:2301.00029v2  [math-ph]  26 Jan 2023Gene...  \n",
       "2   Quantum Mechanics\\nRichard Fitzpatrick\\nProfes...  \n",
       "3   To appear in JHEP\\nFACET: A new long-lived par...  \n",
       "4   Inference for Large Panel Data with Many Covar...  \n",
       "5   arXiv:2301.00085v1  [math.CO]  31 Dec 2022On t...  \n",
       "6     \\n \\n \\n \\n   \\nWealth Redistribution and Mu...  \n",
       "7   RESEARCH\\nON\\nTEACHING AND LEARNING\\nQUANTUM M...  \n",
       "8   Measuring tail risk at high-frequency: An L1-r...  \n",
       "9   Single Phonon Detection for Dark Matter via Qu...  \n",
       "10  arXiv:2301.00037v1  [math.HO]  30 Dec 2022A Co...  \n",
       "11  EUROPEAN ORGANISATION FOR NUCLEAR RESEARCH (CE...  "
      ]
     },
     "execution_count": 152,
     "metadata": {},
     "output_type": "execute_result"
    }
   ],
   "source": [
    "df"
   ]
  },
  {
   "cell_type": "code",
   "execution_count": null,
   "id": "e222c029-c725-4f12-b5af-8ff344aa202e",
   "metadata": {},
   "outputs": [],
   "source": []
  }
 ],
 "metadata": {
  "kernelspec": {
   "display_name": "Python 3 (ipykernel)",
   "language": "python",
   "name": "python3"
  },
  "language_info": {
   "codemirror_mode": {
    "name": "ipython",
    "version": 3
   },
   "file_extension": ".py",
   "mimetype": "text/x-python",
   "name": "python",
   "nbconvert_exporter": "python",
   "pygments_lexer": "ipython3",
   "version": "3.11.1"
  }
 },
 "nbformat": 4,
 "nbformat_minor": 5
}
